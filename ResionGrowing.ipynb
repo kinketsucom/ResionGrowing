{
 "cells": [
  {
   "cell_type": "code",
   "execution_count": 9,
   "metadata": {},
   "outputs": [
    {
     "data": {
      "text/plain": [
       "True"
      ]
     },
     "execution_count": 9,
     "metadata": {},
     "output_type": "execute_result"
    }
   ],
   "source": [
    "#coding:utf-8\n",
    "import pylab\n",
    "from PIL import Image,ImageDraw\n",
    "import matplotlib.pyplot as plt\n",
    "import numpy as np\n",
    "from functools import lru_cache\n",
    "import cv2\n",
    "import math\n",
    "\n",
    "\n",
    "#画像の読み込み\n",
    "test = cv2.imread(\"./Img/input.jpg\", cv2.IMREAD_COLOR)#BGRなので気をつける\n",
    "gray_test = cv2.imread(\"./Img/input.jpg\",cv2.IMREAD_GRAYSCALE)\n",
    "width = test.shape[0]\n",
    "height = test.shape[1] \n",
    "frag = np.zeros(gray_test.shape)#領域分割フラグ\n",
    "\n",
    "#画像の書き出し\n",
    "cv2.imwrite('./Img/test.jpg', test)\n",
    "cv2.imwrite('./Img/gray_test.jpg',gray_test)\n",
    "\n",
    "#初期地点\n",
    "start_position = [int(width/2),int(height/2)]\n",
    "threshold = 127#分割領域の閾値\n",
    "pix = gray_test[start_position[0]][start_position[1]]#グループ化させる領域の画素値\n",
    "\n",
    "for y in range(0,int(height/2)):\n",
    "    for x in range(0,int(width/2)):#上下\n",
    "        r = gray_test[start_position[0]+x][start_position[1]+y]\n",
    "        l = gray_test[start_position[0]-x][start_position[1]+y]\n",
    "        r2 = gray_test[start_position[0]+x][start_position[1]-y]\n",
    "        l2= gray_test[start_position[0]-x][start_position[1]-y]\n",
    "        if ( max(pix,r) -min(pix,r) <= threshold):\n",
    "            frag[start_position[0]+x][start_position[1]+y] = 1\n",
    "        if ( max(pix,l) -min(pix,l) <= threshold):\n",
    "            frag[start_position[0]-x][start_position[1]+y] = 1\n",
    "        if ( max(pix,r2) -min(pix,r2) <= threshold):\n",
    "            frag[start_position[0]+x][start_position[1]-y] = 1\n",
    "        if ( max(pix,l2) -min(pix,l2) <= threshold):\n",
    "            frag[start_position[0]-x][start_position[1]-y] = 1\n",
    "\n",
    "frag *= 255\n",
    "cv2.imwrite('./Img/result.jpg', frag)\n"
   ]
  },
  {
   "cell_type": "code",
   "execution_count": null,
   "metadata": {},
   "outputs": [],
   "source": []
  }
 ],
 "metadata": {
  "kernelspec": {
   "display_name": "Python 3",
   "language": "python",
   "name": "python3"
  },
  "language_info": {
   "codemirror_mode": {
    "name": "ipython",
    "version": 3
   },
   "file_extension": ".py",
   "mimetype": "text/x-python",
   "name": "python",
   "nbconvert_exporter": "python",
   "pygments_lexer": "ipython3",
   "version": "3.6.1"
  }
 },
 "nbformat": 4,
 "nbformat_minor": 2
}
